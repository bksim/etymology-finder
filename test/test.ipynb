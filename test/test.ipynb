{
 "metadata": {
  "name": ""
 },
 "nbformat": 3,
 "nbformat_minor": 0,
 "worksheets": [
  {
   "cells": [
    {
     "cell_type": "code",
     "collapsed": false,
     "input": [
      "import csv"
     ],
     "language": "python",
     "metadata": {},
     "outputs": [],
     "prompt_number": 2
    },
    {
     "cell_type": "code",
     "collapsed": false,
     "input": [
      "# ONLY RUN ONCE\n",
      "with open('etymwn.tsv','rb') as tsvinfile, open('small.tsv', 'wb') as tsvoutfile:\n",
      "    tsvin = csv.reader(tsvinfile, delimiter='\\t')\n",
      "    tsvout = csv.writer(tsvoutfile)\n",
      "    \n",
      "    count = 0\n",
      "    for row in tsvin:\n",
      "        if row[1] == 'rel:etymology':\n",
      "            tsvout.writerow(row)\n",
      "            count += 1\n",
      "    print count"
     ],
     "language": "python",
     "metadata": {},
     "outputs": []
    },
    {
     "cell_type": "code",
     "collapsed": false,
     "input": [
      "# loads file into dictionary\n",
      "def load_data(infile):\n",
      "    relations = {}\n",
      "    with open(infile, 'rb') as tsvinfile:\n",
      "        tsvin = csv.reader(tsvinfile, delimiter=',')\n",
      "        for row in tsvin:\n",
      "            relations[row[0]] = row[2]\n",
      "    return relations\n",
      "\n",
      "# word is in format LANGCODE: WORD\n",
      "def get_origin(relations, word, path=False):\n",
      "    # threshold to avoid loops, this is super hacky\n",
      "    threshold = 5\n",
      "    count = 0\n",
      "    if not path:\n",
      "        lookup = word\n",
      "        #lookup = language + ': ' + word\n",
      "        while lookup in relations and count < threshold:\n",
      "            count += 1\n",
      "            lookup = relations[lookup]\n",
      "        return lookup\n",
      "    else:\n",
      "        lookup = [word]\n",
      "        #lookup = [language + ': ' + word]\n",
      "        while lookup[-1] in relations and count < threshold:\n",
      "            count += 1\n",
      "            lookup.append(relations[lookup[-1]])\n",
      "        return lookup\n",
      "            \n",
      "# given a LANGUAGE: WORD origin string, gives all words which have that etymological origin at some point in their tree\n",
      "# optional language filter: if given a string (language code), will filter results to only be of a certain language\n",
      "def get_all_from_origin(relations, origin, language=None):\n",
      "    cousins = []\n",
      "    count = 0\n",
      "    for word in relations:\n",
      "        # if word is in any of the parent nodes, then count it\n",
      "        if origin in get_origin(relations, word, True)[1:]:\n",
      "            cousins.append(word)\n",
      "    \n",
      "    if language is not None:\n",
      "        return [c for c in cousins if c.split(': ')[0] == language]\n",
      "    return cousins\n",
      "\n",
      "def get_cousins(relations, word, language=None):\n",
      "    origin = get_origin(relations, word, path=False)\n",
      "    cousins = get_all_from_origin(relations, origin, language=language)\n",
      "    return [c for c in cousins if c != word]"
     ],
     "language": "python",
     "metadata": {},
     "outputs": [],
     "prompt_number": 10
    },
    {
     "cell_type": "code",
     "collapsed": false,
     "input": [
      "# ONLY RUN ONCE\n",
      "relations = load_data('small.tsv')"
     ],
     "language": "python",
     "metadata": {},
     "outputs": [],
     "prompt_number": 4
    },
    {
     "cell_type": "code",
     "collapsed": false,
     "input": [
      "get_origin(relations, 'eng: muscle', False)"
     ],
     "language": "python",
     "metadata": {},
     "outputs": [
      {
       "metadata": {},
       "output_type": "pyout",
       "prompt_number": 7,
       "text": [
        "'lat: musculus'"
       ]
      }
     ],
     "prompt_number": 7
    },
    {
     "cell_type": "code",
     "collapsed": false,
     "input": [
      "get_cousins(relations, 'eng: muscle', language='eng')"
     ],
     "language": "python",
     "metadata": {},
     "outputs": [
      {
       "metadata": {},
       "output_type": "pyout",
       "prompt_number": 11,
       "text": [
        "['eng: muscle car',\n",
        " 'eng: mussel',\n",
        " 'eng: muscledom',\n",
        " 'eng: muscle boy',\n",
        " 'eng: muscleless']"
       ]
      }
     ],
     "prompt_number": 11
    },
    {
     "cell_type": "code",
     "collapsed": false,
     "input": [],
     "language": "python",
     "metadata": {},
     "outputs": [],
     "prompt_number": 66
    },
    {
     "cell_type": "code",
     "collapsed": false,
     "input": [],
     "language": "python",
     "metadata": {},
     "outputs": [],
     "prompt_number": 66
    },
    {
     "cell_type": "code",
     "collapsed": false,
     "input": [],
     "language": "python",
     "metadata": {},
     "outputs": [],
     "prompt_number": 66
    },
    {
     "cell_type": "code",
     "collapsed": false,
     "input": [],
     "language": "python",
     "metadata": {},
     "outputs": []
    }
   ],
   "metadata": {}
  }
 ]
}